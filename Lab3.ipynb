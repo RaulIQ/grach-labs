{
 "cells": [
  {
   "cell_type": "markdown",
   "id": "e5c3bdf3",
   "metadata": {},
   "source": [
    "# Лабаораторная работа №3\n",
    "\n",
    "**Цель:** Сравнить ASR-движки (Whisper, Vosk, Giga AM) по метрикам WER/CER/RTF и оценить влияние bias prompt (контекста) в Whisper. "
   ]
  },
  {
   "cell_type": "code",
   "execution_count": 1,
   "id": "ea0a578b",
   "metadata": {},
   "outputs": [
    {
     "name": "stdout",
     "output_type": "stream",
     "text": [
      "CUDA доступна: True\n",
      "Количество GPU: 1\n",
      "GPU имя: NVIDIA GeForce RTX 4080 Laptop GPU\n"
     ]
    }
   ],
   "source": [
    "import torch\n",
    "print(\"CUDA доступна:\", torch.cuda.is_available())\n",
    "print(\"Количество GPU:\", torch.cuda.device_count())\n",
    "if torch.cuda.is_available():\n",
    "    print(\"GPU имя:\", torch.cuda.get_device_name(0))\n"
   ]
  },
  {
   "cell_type": "code",
   "execution_count": null,
   "id": "508a9d9b",
   "metadata": {},
   "outputs": [
    {
     "name": "stdout",
     "output_type": "stream",
     "text": [
      "12.4\n"
     ]
    }
   ],
   "source": [
    "import os\n",
    "from faster_whisper import WhisperModel\n",
    "\n",
    "model_size = \"large-v3\"\n",
    "\n",
    "model = WhisperModel(model_size, device=\"cuda\", compute_type=\"float16\")\n",
    "\n",
    "for name in os.listdir(\"/data\"):\n",
    "    if not name.endswith(\".wav\"):\n",
    "        continue\n",
    "    path = os.path.join(\"/data\", name)\n",
    "    segments, info = model.transcribe(path, beam_size=5)\n",
    "    print(f\"\\n{name}\")\n",
    "    print(\"Detected language:\", info.language)\n",
    "    for s in segments:\n",
    "        print(f\"[{s.start:.2f}s -> {s.end:.2f}s] {s.text}\")\n",
    "\n",
    "print(\"Detected language '%s' with probability %f\" % (info.language, info.language_probability))\n",
    "\n",
    "for segment in segments:\n",
    "    print(\"[%.2fs -> %.2fs] %s\" % (segment.start, segment.end, segment.text))"
   ]
  }
 ],
 "metadata": {
  "kernelspec": {
   "display_name": "Python 3",
   "language": "python",
   "name": "python3"
  },
  "language_info": {
   "codemirror_mode": {
    "name": "ipython",
    "version": 3
   },
   "file_extension": ".py",
   "mimetype": "text/x-python",
   "name": "python",
   "nbconvert_exporter": "python",
   "pygments_lexer": "ipython3",
   "version": "3.11.0"
  }
 },
 "nbformat": 4,
 "nbformat_minor": 5
}
